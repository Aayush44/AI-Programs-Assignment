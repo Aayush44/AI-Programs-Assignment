{
 "cells": [
  {
   "cell_type": "code",
   "execution_count": 12,
   "metadata": {},
   "outputs": [],
   "source": [
    "class waterJug: \n",
    "    def __init__(self,jug1_capacity, jug2_capacity, jug1_end, jug2_end):\n",
    "        # Setting up the capacity\n",
    "        self.Jug1Capacity = jug1_capacity\n",
    "        self.Jug2Capacity = jug2_capacity\n",
    "        \n",
    "         # Setting up the Destiny\n",
    "        self.destJug1=jug1_end\n",
    "        self.destJug2=jug2_end\n",
    "        \n",
    "        # Setting up the initial state\n",
    "        self.ini_X=0\n",
    "        self.ini_Y=0\n",
    "        \n",
    "        # Additional Props\n",
    "        self.graph = {}\n",
    "        self.final = []\n",
    "        \n",
    "    def error(self):\n",
    "        return (\"Not Applicable !\")\n",
    "        \n",
    "    def filling_jug1(self,x,y):\n",
    "        if(x==0): # x < self.capacityX\n",
    "            x = self.Jug1Capacity \n",
    "            y = y\n",
    "            return x,y\n",
    "        else:\n",
    "            self.error()\n",
    "    \n",
    "    def filling_jug2(self,x,y):\n",
    "        if(y==0): # y < self.capacityY\n",
    "            y=self.Jug2Capacity \n",
    "            x=x\n",
    "            return x,y\n",
    "        else:\n",
    "            self.error()\n",
    "            \n",
    "    def empty_jug1(self,x,y):\n",
    "        if(x > 0):\n",
    "            x = 0\n",
    "            return x,y\n",
    "        else:\n",
    "            self.error()\n",
    "            \n",
    "    def empty_jug2(self,x,y):\n",
    "        if(y > 0):\n",
    "            y = 0\n",
    "            return x,y\n",
    "        else:\n",
    "            self.error()\n",
    "\n",
    "    def pour_X_Y(self,x,y):\n",
    "        if( 0 < x+y >= self.Jug2Capacity  and x > 0):\n",
    "            x = x-(self.Jug2Capacity - y)\n",
    "            y = self.Jug2Capacity \n",
    "            return x,y\n",
    "        else:\n",
    "            self.error()\n",
    "    \n",
    "    def pour_Y_X(self,x,y):\n",
    "        if( 0 < x+y >= self.Jug1Capacity  and y > 0):\n",
    "            y = y-(self.Jug1Capacity-x)\n",
    "            x = self.Jug1Capacity \n",
    "            return x,y\n",
    "        else:\n",
    "            self.error()\n",
    "            \n",
    "    def pour_full_X_Y(self,x,y):\n",
    "        if( 0 < x+y <= self.Jug1Capacity  and y >= 0):\n",
    "            x = x+y\n",
    "            y = 0\n",
    "            return x,y\n",
    "        else:\n",
    "            self.error()\n",
    "            \n",
    "    def pour_full_Y_X(self,x,y):\n",
    "        if( 0 < x+y <= self.Jug2Capacity  and x >= 0):\n",
    "            y = x+y\n",
    "            x = 0\n",
    "            return x,y\n",
    "        else:\n",
    "            self.error()\n",
    "            \n",
    "    def checker(self):\n",
    "        print(self.ini_X,self.ini_Y)\n",
    "        \n",
    "    # Graph related work\n",
    "    def addNetwork(self,u1,v1,u2,v2):\n",
    "        if(self.graph.get((u1,v1)) == None):\n",
    "            self.graph[(u1,v1)] = []\n",
    "            self.graph[(u1,v1)].append((u2,v2))\n",
    "        else:\n",
    "            self.graph[(u1,v1)].append((u2,v2))\n",
    "            \n",
    "    def check_graph(self):\n",
    "        return self.graph\n",
    "    \n",
    "    # DFS Technique\n",
    "    def DFSUtil(self, u,v, visited,l):\n",
    "\n",
    "        visited.add((u,v))\n",
    "        l.append((u,v))\n",
    "        print(u,v,\" \", end=' ')\n",
    "\n",
    "        if((u,v)==(self.destJug1,self.destJug2)):\n",
    "            self.final = [i for i in l]\n",
    "            \n",
    "        if(self.graph.get((u,v))!=None):\n",
    "            for neighbour in self.graph[(u,v)]:\n",
    "                if neighbour[0] not in visited and neighbour[1] not in visited:\n",
    "                    self.DFSUtil(neighbour[0],neighbour[1], visited,l)\n",
    "\n",
    "        else:\n",
    "            l.pop()\n",
    "            \n",
    "    def DFS(self, u,v):\n",
    "        visited = set()\n",
    "        l=[]\n",
    "        self.DFSUtil(u,v, visited,l)\n",
    "            \n",
    "    def ans_(self):\n",
    "        return self.final\n",
    "\n",
    "    def state_Create(self):\n",
    "\n",
    "        a,b=self.ini_X,self.ini_Y\n",
    "        ans_arr = [(0,0)]\n",
    "        k=0\n",
    "\n",
    "        while(True):\n",
    "            length = len(ans_arr)\n",
    "            \n",
    "            l=WJ.filling_jug1(a,b)\n",
    "\n",
    "            if(l not in ans_arr and l!=None):\n",
    "                ans_arr.append(l)\n",
    "                WJ.addNetwork(a,b,l[0],l[1])\n",
    "                \n",
    "            l=WJ.filling_jug2(a,b)\n",
    "\n",
    "            if(l not in ans_arr and l!=None):\n",
    "                ans_arr.append(l)\n",
    "                WJ.addNetwork(a,b,l[0],l[1])\n",
    "                \n",
    "            l=WJ.empty_jug1(a,b)\n",
    "\n",
    "            if(l not in ans_arr and l!=None):\n",
    "                ans_arr.append(l)\n",
    "                WJ.addNetwork(a,b,l[0],l[1])\n",
    "                \n",
    "            l=WJ.empty_jug2(a,b)\n",
    "\n",
    "            if(l not in ans_arr and l!=None):\n",
    "                ans_arr.append(l)\n",
    "                WJ.addNetwork(a,b,l[0],l[1])\n",
    "                \n",
    "            l=WJ.pour_X_Y(a,b)\n",
    "\n",
    "            if(l not in ans_arr and l!=None):\n",
    "                ans_arr.append(l)\n",
    "                WJ.addNetwork(a,b,l[0],l[1])\n",
    "                \n",
    "            l=WJ.pour_Y_X(a,b)\n",
    "\n",
    "            if(l not in ans_arr and l!=None):\n",
    "                ans_arr.append(l)\n",
    "                WJ.addNetwork(a,b,l[0],l[1])\n",
    "                \n",
    "            l=WJ.pour_full_X_Y(a,b)\n",
    "\n",
    "            if(l not in ans_arr and l!=None):\n",
    "                ans_arr.append(l)\n",
    "                WJ.addNetwork(a,b,l[0],l[1])\n",
    "                \n",
    "            l=WJ.pour_full_Y_X(a,b)\n",
    "\n",
    "            if(l not in ans_arr and l!=None):\n",
    "                ans_arr.append(l)\n",
    "                WJ.addNetwork(a,b,l[0],l[1])\n",
    "            \n",
    "            if(k == len(ans_arr)):\n",
    "                break\n",
    "                \n",
    "            else:\n",
    "                k+=1\n",
    "        #         print(k)\n",
    "                if(k == len(ans_arr)):\n",
    "                    break\n",
    "                a,b = ans_arr[k]\n",
    "        #         print(WJ.check_graph())\n",
    "        #         print(\"a,b\",a,b)\n",
    "        return (ans_arr)\n",
    "        \n",
    "        "
   ]
  },
  {
   "cell_type": "code",
   "execution_count": 13,
   "metadata": {},
   "outputs": [],
   "source": [
    "# Input here the capacity/water contain in both 2 Jugs left and right side\n",
    "WJ = waterJug(4,3,2,3)"
   ]
  },
  {
   "cell_type": "code",
   "execution_count": 14,
   "metadata": {},
   "outputs": [
    {
     "data": {
      "text/plain": [
       "[(0, 0),\n",
       " (4, 0),\n",
       " (0, 3),\n",
       " (4, 3),\n",
       " (1, 3),\n",
       " (3, 0),\n",
       " (1, 0),\n",
       " (3, 3),\n",
       " (0, 1),\n",
       " (4, 2),\n",
       " (4, 1),\n",
       " (0, 2),\n",
       " (2, 3),\n",
       " (2, 0)]"
      ]
     },
     "execution_count": 14,
     "metadata": {},
     "output_type": "execute_result"
    }
   ],
   "source": [
    "WJ.state_Create()"
   ]
  },
  {
   "cell_type": "code",
   "execution_count": 15,
   "metadata": {},
   "outputs": [
    {
     "data": {
      "text/plain": [
       "{(0, 0): [(4, 0), (0, 3)],\n",
       " (4, 0): [(4, 3), (1, 3)],\n",
       " (0, 3): [(3, 0)],\n",
       " (1, 3): [(1, 0)],\n",
       " (3, 0): [(3, 3)],\n",
       " (1, 0): [(0, 1)],\n",
       " (3, 3): [(4, 2)],\n",
       " (0, 1): [(4, 1)],\n",
       " (4, 2): [(0, 2)],\n",
       " (4, 1): [(2, 3)],\n",
       " (0, 2): [(2, 0)]}"
      ]
     },
     "execution_count": 15,
     "metadata": {},
     "output_type": "execute_result"
    }
   ],
   "source": [
    "\n",
    "WJ.check_graph()"
   ]
  },
  {
   "cell_type": "code",
   "execution_count": 16,
   "metadata": {},
   "outputs": [
    {
     "name": "stdout",
     "output_type": "stream",
     "text": [
      "0 0   4 0   4 3   1 3   1 0   0 1   4 1   2 3   0 3   3 0   3 3   4 2   0 2   2 0   "
     ]
    }
   ],
   "source": [
    "WJ.DFS(0,0)"
   ]
  },
  {
   "cell_type": "code",
   "execution_count": 17,
   "metadata": {},
   "outputs": [
    {
     "data": {
      "text/plain": [
       "[(0, 0), (4, 0), (1, 3), (1, 0), (0, 1), (4, 1), (2, 3)]"
      ]
     },
     "execution_count": 17,
     "metadata": {},
     "output_type": "execute_result"
    }
   ],
   "source": [
    "# Final Path/required ans is here.\n",
    "WJ.ans_()"
   ]
  },
  {
   "cell_type": "code",
   "execution_count": null,
   "metadata": {},
   "outputs": [],
   "source": []
  }
 ],
 "metadata": {
  "kernelspec": {
   "display_name": "Python 3",
   "language": "python",
   "name": "python3"
  },
  "language_info": {
   "codemirror_mode": {
    "name": "ipython",
    "version": 3
   },
   "file_extension": ".py",
   "mimetype": "text/x-python",
   "name": "python",
   "nbconvert_exporter": "python",
   "pygments_lexer": "ipython3",
   "version": "3.7.0"
  }
 },
 "nbformat": 4,
 "nbformat_minor": 2
}
